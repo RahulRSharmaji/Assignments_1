{
 "cells": [
  {
   "cell_type": "code",
   "execution_count": null,
   "metadata": {},
   "outputs": [],
   "source": [
    "#Q_5  Given two lists of integers A and B (Take user inputs). Write a program to merge them into a single sorted list\n",
    "#       that contains every item from list A and B in ascending order.\n",
    " "
   ]
  },
  {
   "cell_type": "code",
   "execution_count": 1,
   "metadata": {},
   "outputs": [
    {
     "name": "stdout",
     "output_type": "stream",
     "text": [
      "enter items for list1= 12345\n",
      "Enter items for list2= 23456\n",
      "['1', '2', '2', '3', '3', '4', '4', '5', '5', '6']\n"
     ]
    }
   ],
   "source": [
    "#program\n",
    "\n",
    "list1=list(input(\"enter items for list1= \"))\n",
    "\n",
    "list2=list(input(\"Enter items for list2= \"))\n",
    "\n",
    "list3=list1+list2\n",
    "\n",
    "list3.sort()\n",
    "\n",
    "print(list3)"
   ]
  },
  {
   "cell_type": "code",
   "execution_count": null,
   "metadata": {},
   "outputs": [],
   "source": []
  }
 ],
 "metadata": {
  "kernelspec": {
   "display_name": "Python 3",
   "language": "python",
   "name": "python3"
  },
  "language_info": {
   "codemirror_mode": {
    "name": "ipython",
    "version": 3
   },
   "file_extension": ".py",
   "mimetype": "text/x-python",
   "name": "python",
   "nbconvert_exporter": "python",
   "pygments_lexer": "ipython3",
   "version": "3.7.6"
  }
 },
 "nbformat": 4,
 "nbformat_minor": 4
}
