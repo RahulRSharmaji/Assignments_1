{
 "cells": [
  {
   "cell_type": "code",
   "execution_count": null,
   "metadata": {},
   "outputs": [],
   "source": [
    "#Q_5  Given two lists of integers A and B (Take user inputs). Write a program to merge them into a single sorted list\n",
    "#       that contains every item from list A and B in ascending order.\n",
    " "
   ]
  },
  {
   "cell_type": "code",
   "execution_count": 1,
   "metadata": {},
   "outputs": [
    {
     "name": "stdout",
     "output_type": "stream",
     "text": [
      "Enter number of elements: 6\n",
      "element: 1\n",
      "element: 2\n",
      "element: 3\n",
      "element: 8\n",
      "element: 4\n",
      "element: 5\n",
      "Enter number of elements: 5\n",
      " element: 2\n",
      " element: 3\n",
      " element: 7\n",
      " element: 5\n",
      " element: 6\n",
      "List in ascending order :  [1, 2, 2, 3, 3, 4, 5, 5, 6, 7, 8]\n"
     ]
    }
   ],
   "source": [
    "#program\n",
    "\n",
    "a=[]\n",
    "c=[]\n",
    "num1=int(input(\"Enter number of elements: \"))\n",
    "\n",
    "for i in range(num1):\n",
    "    b=int(input(\"element: \"))\n",
    "    a.append(b)\n",
    "    \n",
    "num2=int(input(\"Enter number of elements: \"))\n",
    "\n",
    "for i in range(num2):\n",
    "    d=int(input(\" element: \"))\n",
    "    c.append(d)\n",
    "merge=a+c\n",
    "merge.sort()\n",
    "\n",
    "print(\"List in ascending order : \",merge)"
   ]
  },
  {
   "cell_type": "code",
   "execution_count": null,
   "metadata": {},
   "outputs": [],
   "source": []
  }
 ],
 "metadata": {
  "kernelspec": {
   "display_name": "Python 3",
   "language": "python",
   "name": "python3"
  },
  "language_info": {
   "codemirror_mode": {
    "name": "ipython",
    "version": 3
   },
   "file_extension": ".py",
   "mimetype": "text/x-python",
   "name": "python",
   "nbconvert_exporter": "python",
   "pygments_lexer": "ipython3",
   "version": "3.7.6"
  }
 },
 "nbformat": 4,
 "nbformat_minor": 4
}
