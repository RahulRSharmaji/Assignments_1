{
 "cells": [
  {
   "cell_type": "code",
   "execution_count": null,
   "metadata": {},
   "outputs": [],
   "source": [
    "#Q_3 Given a number and ith bit, change the ith bit of that number to 1.\n",
    "#    Sample Input -> num = 13, i = 1\n",
    "#    Output -> 15\n",
    "#    Explanation -> 13 can be represented as 1101 in binary. Now if we set the 1st bit of this binary represented value,\n",
    "#     we will get 1111 (i.e. 15) as output.\n"
   ]
  },
  {
   "cell_type": "code",
   "execution_count": 8,
   "metadata": {},
   "outputs": [
    {
     "name": "stdout",
     "output_type": "stream",
     "text": [
      "num :  12\n",
      "i= 1\n",
      "14\n"
     ]
    }
   ],
   "source": [
    "#program\n",
    "\n",
    "num=int(input(\"num :  \"))\n",
    "\n",
    "i=int(input(\"i= \"))\n",
    "\n",
    "mag_num=1<<i      \n",
    "\n",
    " \n",
    "\n",
    "print(mag_num|num)\n"
   ]
  }
 ],
 "metadata": {
  "kernelspec": {
   "display_name": "Python 3",
   "language": "python",
   "name": "python3"
  },
  "language_info": {
   "codemirror_mode": {
    "name": "ipython",
    "version": 3
   },
   "file_extension": ".py",
   "mimetype": "text/x-python",
   "name": "python",
   "nbconvert_exporter": "python",
   "pygments_lexer": "ipython3",
   "version": "3.7.6"
  }
 },
 "nbformat": 4,
 "nbformat_minor": 4
}
