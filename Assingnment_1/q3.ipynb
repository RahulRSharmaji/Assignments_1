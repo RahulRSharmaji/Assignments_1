{
 "cells": [
  {
   "cell_type": "code",
   "execution_count": null,
   "metadata": {},
   "outputs": [],
   "source": [
    "#Q_3 Given a number and ith bit, change the ith bit of that number to 1.\n",
    "#    Sample Input -> num = 13, i = 1\n",
    "#    Output -> 15\n",
    "#    Explanation -> 13 can be represented as 1101 in binary. Now if we set the 1st bit of this binary represented value,\n",
    "#     we will get 1111 (i.e. 15) as output.\n"
   ]
  },
  {
   "cell_type": "code",
   "execution_count": 3,
   "metadata": {},
   "outputs": [
    {
     "name": "stdout",
     "output_type": "stream",
     "text": [
      "Number :  13\n",
      "i= 1\n",
      "15\n"
     ]
    }
   ],
   "source": [
    "#program\n",
    "\n",
    "n=int(input(\"Number :  \"))\n",
    "\n",
    "i=int(input(\"i= \"))\n",
    "\n",
    "bit=1<<i      \n",
    "\n",
    "print(bit|n)\n"
   ]
  },
  {
   "cell_type": "code",
   "execution_count": null,
   "metadata": {},
   "outputs": [],
   "source": []
  }
 ],
 "metadata": {
  "kernelspec": {
   "display_name": "Python 3",
   "language": "python",
   "name": "python3"
  },
  "language_info": {
   "codemirror_mode": {
    "name": "ipython",
    "version": 3
   },
   "file_extension": ".py",
   "mimetype": "text/x-python",
   "name": "python",
   "nbconvert_exporter": "python",
   "pygments_lexer": "ipython3",
   "version": "3.7.6"
  }
 },
 "nbformat": 4,
 "nbformat_minor": 4
}
