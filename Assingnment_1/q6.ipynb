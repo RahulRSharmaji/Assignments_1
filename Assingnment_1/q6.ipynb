{
 "cells": [
  {
   "cell_type": "code",
   "execution_count": null,
   "metadata": {},
   "outputs": [],
   "source": [
    "#Q_6 Create a user defined dictionary to store names and marks of 5 students.\n",
    "#    Sort the dictionary according to marks and return this sorted dictionary to the user.\n",
    "#   Sample Input -> {'Berlin': 70, 'Oslo':0, 'Moscow':50, 'Nairobi':100}\n",
    "#   Output -> {'Oslo':0, 'Moscow':50, 'Berlin': 70, 'Nairobi':100}\n"
   ]
  },
  {
   "cell_type": "code",
   "execution_count": 2,
   "metadata": {},
   "outputs": [],
   "source": [
    " \n",
    "Dict = {} \n",
    "\n",
    "a=int(input(\"Enter the element : \"))\n",
    "\n",
    "\n"
   ]
  },
  {
   "cell_type": "code",
   "execution_count": 3,
   "metadata": {},
   "outputs": [
    {
     "name": "stdout",
     "output_type": "stream",
     "text": [
      "[('Oslo', 0), ('Moscow', 50), ('Berlin', 70), ('Nairobi', 100)]\n"
     ]
    }
   ],
   "source": [
    "d = {'Berlin': 70, 'Oslo':0, 'Moscow':50, 'Nairobi':100}\n",
    "a = sorted(d.items(), key=lambda x: x[1])    \n",
    "print(a)"
   ]
  },
  {
   "cell_type": "code",
   "execution_count": null,
   "metadata": {},
   "outputs": [],
   "source": []
  }
 ],
 "metadata": {
  "kernelspec": {
   "display_name": "Python 3",
   "language": "python",
   "name": "python3"
  },
  "language_info": {
   "codemirror_mode": {
    "name": "ipython",
    "version": 3
   },
   "file_extension": ".py",
   "mimetype": "text/x-python",
   "name": "python",
   "nbconvert_exporter": "python",
   "pygments_lexer": "ipython3",
   "version": "3.7.6"
  }
 },
 "nbformat": 4,
 "nbformat_minor": 4
}
