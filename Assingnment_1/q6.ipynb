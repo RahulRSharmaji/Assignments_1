{
 "cells": [
  {
   "cell_type": "code",
   "execution_count": null,
   "metadata": {},
   "outputs": [],
   "source": [
    "#Q_6 Create a user defined dictionary to store names and marks of 5 students.\n",
    "#    Sort the dictionary according to marks and return this sorted dictionary to the user.\n",
    "#   Sample Input -> {'Berlin': 70, 'Oslo':0, 'Moscow':50, 'Nairobi':100}\n",
    "#   Output -> {'Oslo':0, 'Moscow':50, 'Berlin': 70, 'Nairobi':100}\n"
   ]
  },
  {
   "cell_type": "code",
   "execution_count": 9,
   "metadata": {},
   "outputs": [
    {
     "name": "stdout",
     "output_type": "stream",
     "text": [
      "Number of elements : 4\n",
      "Enter names: Berlin\n",
      "Enter marks: 70\n",
      "Enter names: Oslo\n",
      "Enter marks: 0\n",
      "Enter names: Moscow\n",
      "Enter marks: 50\n",
      "Enter names: Nairobi\n",
      "Enter marks: 100\n",
      "{'Berlin': '70', 'Oslo': '0', 'Moscow': '50', 'Nairobi': '100'}\n",
      "[('Oslo', '0'), ('Nairobi', '100'), ('Moscow', '50'), ('Berlin', '70')]\n"
     ]
    }
   ],
   "source": [
    "a={}\n",
    "\n",
    "n=int(input(\"Number of elements : \"))\n",
    "\n",
    "for i in range(n):\n",
    "    k=input(\"Enter names: \")\n",
    "    v=input(\"Enter marks: \")\n",
    "    a.update({k:v})\n",
    "    \n",
    "print(a)\n",
    "\n",
    "b = sorted(a.items(), key=lambda x: x[1]) \n",
    "\n",
    "print(b)\n",
    "\n",
    "#no find solution about sorting a dictionary"
   ]
  },
  {
   "cell_type": "code",
   "execution_count": null,
   "metadata": {},
   "outputs": [],
   "source": []
  },
  {
   "cell_type": "code",
   "execution_count": null,
   "metadata": {},
   "outputs": [],
   "source": []
  }
 ],
 "metadata": {
  "kernelspec": {
   "display_name": "Python 3",
   "language": "python",
   "name": "python3"
  },
  "language_info": {
   "codemirror_mode": {
    "name": "ipython",
    "version": 3
   },
   "file_extension": ".py",
   "mimetype": "text/x-python",
   "name": "python",
   "nbconvert_exporter": "python",
   "pygments_lexer": "ipython3",
   "version": "3.7.6"
  }
 },
 "nbformat": 4,
 "nbformat_minor": 4
}
