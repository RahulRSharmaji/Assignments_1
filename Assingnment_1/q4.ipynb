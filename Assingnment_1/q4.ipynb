{
 "cells": [
  {
   "cell_type": "code",
   "execution_count": null,
   "metadata": {},
   "outputs": [],
   "source": [
    "#Q_4 Given a number, print 1 if the number is odd otherwise print 0."
   ]
  },
  {
   "cell_type": "code",
   "execution_count": 1,
   "metadata": {},
   "outputs": [
    {
     "name": "stdout",
     "output_type": "stream",
     "text": [
      "Enter Number= 5\n",
      "Odd 1\n"
     ]
    }
   ],
   "source": [
    "#program\n",
    "\n",
    "n=int(input('Enter Number= '))\n",
    "\n",
    "while(n%2==0):\n",
    "    print(\"Even\" ,0) #number is even\n",
    "    break\n",
    "    \n",
    "while(n%2!=0):\n",
    "    print(\"Odd\",1) #number is odd\n",
    "    break"
   ]
  },
  {
   "cell_type": "code",
   "execution_count": null,
   "metadata": {},
   "outputs": [],
   "source": []
  }
 ],
 "metadata": {
  "kernelspec": {
   "display_name": "Python 3",
   "language": "python",
   "name": "python3"
  },
  "language_info": {
   "codemirror_mode": {
    "name": "ipython",
    "version": 3
   },
   "file_extension": ".py",
   "mimetype": "text/x-python",
   "name": "python",
   "nbconvert_exporter": "python",
   "pygments_lexer": "ipython3",
   "version": "3.7.6"
  }
 },
 "nbformat": 4,
 "nbformat_minor": 4
}
